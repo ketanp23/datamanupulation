{
  "cells": [
    {
      "cell_type": "markdown",
      "metadata": {
        "id": "view-in-github",
        "colab_type": "text"
      },
      "source": [
        "<a href=\"https://colab.research.google.com/github/ketanp23/datamanupulation/blob/main/03_visualization.ipynb\" target=\"_parent\"><img src=\"https://colab.research.google.com/assets/colab-badge.svg\" alt=\"Open In Colab\"/></a>"
      ]
    },
    {
      "cell_type": "markdown",
      "metadata": {
        "id": "SO6JhoBFp2Zu"
      },
      "source": [
        "# Basic Visualization\n",
        "In this tutorial we show how Python and its graphics libraries can be used to create the two most common types of distributional plots: histograms and boxplots.\n",
        "\n",
        "## Preliminaries\n",
        "I include the data import and library import commands at the start of each lesson so that the lessons are self-contained.\n"
      ]
    },
    {
      "cell_type": "code",
      "execution_count": 2,
      "metadata": {
        "id": "SMPixAutp2Zw"
      },
      "outputs": [],
      "source": [
        "import pandas as pd\n",
        "bank = pd.read_csv('Bank.csv')"
      ]
    },
    {
      "cell_type": "markdown",
      "metadata": {
        "id": "2PacJrDZp2Zw"
      },
      "source": [
        "\n",
        "## Basic descriptive statistics\n",
        "Pandas provides basic descriptive statistic functions as methods of the Series object.  Recall that each DataFrame object consists of multiple Series (columns).  Thus, the average salary for bank employees can be found as:"
      ]
    },
    {
      "cell_type": "code",
      "execution_count": 3,
      "metadata": {
        "colab": {
          "base_uri": "https://localhost:8080/"
        },
        "id": "3mJertIYp2Zx",
        "outputId": "10e44990-cbb3-4375-ed14-58bf8ea5bc01"
      },
      "outputs": [
        {
          "output_type": "execute_result",
          "data": {
            "text/plain": [
              "np.float64(39.92192307692307)"
            ]
          },
          "metadata": {},
          "execution_count": 3
        }
      ],
      "source": [
        "bank['Salary'].mean()"
      ]
    },
    {
      "cell_type": "markdown",
      "metadata": {
        "id": "eQqO0sZXp2Zx"
      },
      "source": [
        "Similarly, using a variable to save some typing:"
      ]
    },
    {
      "cell_type": "code",
      "execution_count": 4,
      "metadata": {
        "colab": {
          "base_uri": "https://localhost:8080/"
        },
        "id": "91ee7iayp2Zx",
        "outputId": "3a501894-757c-4d15-b791-7cdbed28bfa3"
      },
      "outputs": [
        {
          "output_type": "execute_result",
          "data": {
            "text/plain": [
              "(26.7, np.float64(39.92192307692307), 37.0, 97.0)"
            ]
          },
          "metadata": {},
          "execution_count": 4
        }
      ],
      "source": [
        "sal = bank['Salary']\n",
        "sal.min(), sal.mean(), sal.median(), sal.max()"
      ]
    },
    {
      "cell_type": "markdown",
      "metadata": {
        "id": "BgACyFMip2Zx"
      },
      "source": [
        "Or, recall, we can get statistical summary of all numerical columns using the `describe()` method:"
      ]
    },
    {
      "cell_type": "code",
      "execution_count": 5,
      "metadata": {
        "colab": {
          "base_uri": "https://localhost:8080/",
          "height": 300
        },
        "id": "75zO0ZZbp2Zy",
        "outputId": "2731f888-7ba1-4861-9e61-064541dd6323"
      },
      "outputs": [
        {
          "output_type": "execute_result",
          "data": {
            "text/plain": [
              "         Employee     EducLev    JobGrade     YrHired      YrBorn    YrsPrior  \\\n",
              "count  208.000000  208.000000  208.000000  208.000000  208.000000  208.000000   \n",
              "mean   104.500000    3.158654    2.759615   85.326923   54.605769    2.375000   \n",
              "std     60.188592    1.467464    1.566529    6.987832   10.318988    3.135237   \n",
              "min      1.000000    1.000000    1.000000   56.000000   30.000000    0.000000   \n",
              "25%     52.750000    2.000000    1.000000   82.000000   47.750000    0.000000   \n",
              "50%    104.500000    3.000000    3.000000   87.000000   56.500000    1.000000   \n",
              "75%    156.250000    5.000000    4.000000   90.000000   63.000000    4.000000   \n",
              "max    208.000000    5.000000    6.000000   93.000000   73.000000   18.000000   \n",
              "\n",
              "           Salary  \n",
              "count  208.000000  \n",
              "mean    39.921923  \n",
              "std     11.256154  \n",
              "min     26.700000  \n",
              "25%     33.000000  \n",
              "50%     37.000000  \n",
              "75%     44.000000  \n",
              "max     97.000000  "
            ],
            "text/html": [
              "\n",
              "  <div id=\"df-0dd94edf-9eab-4ed5-ac54-e453f530388a\" class=\"colab-df-container\">\n",
              "    <div>\n",
              "<style scoped>\n",
              "    .dataframe tbody tr th:only-of-type {\n",
              "        vertical-align: middle;\n",
              "    }\n",
              "\n",
              "    .dataframe tbody tr th {\n",
              "        vertical-align: top;\n",
              "    }\n",
              "\n",
              "    .dataframe thead th {\n",
              "        text-align: right;\n",
              "    }\n",
              "</style>\n",
              "<table border=\"1\" class=\"dataframe\">\n",
              "  <thead>\n",
              "    <tr style=\"text-align: right;\">\n",
              "      <th></th>\n",
              "      <th>Employee</th>\n",
              "      <th>EducLev</th>\n",
              "      <th>JobGrade</th>\n",
              "      <th>YrHired</th>\n",
              "      <th>YrBorn</th>\n",
              "      <th>YrsPrior</th>\n",
              "      <th>Salary</th>\n",
              "    </tr>\n",
              "  </thead>\n",
              "  <tbody>\n",
              "    <tr>\n",
              "      <th>count</th>\n",
              "      <td>208.000000</td>\n",
              "      <td>208.000000</td>\n",
              "      <td>208.000000</td>\n",
              "      <td>208.000000</td>\n",
              "      <td>208.000000</td>\n",
              "      <td>208.000000</td>\n",
              "      <td>208.000000</td>\n",
              "    </tr>\n",
              "    <tr>\n",
              "      <th>mean</th>\n",
              "      <td>104.500000</td>\n",
              "      <td>3.158654</td>\n",
              "      <td>2.759615</td>\n",
              "      <td>85.326923</td>\n",
              "      <td>54.605769</td>\n",
              "      <td>2.375000</td>\n",
              "      <td>39.921923</td>\n",
              "    </tr>\n",
              "    <tr>\n",
              "      <th>std</th>\n",
              "      <td>60.188592</td>\n",
              "      <td>1.467464</td>\n",
              "      <td>1.566529</td>\n",
              "      <td>6.987832</td>\n",
              "      <td>10.318988</td>\n",
              "      <td>3.135237</td>\n",
              "      <td>11.256154</td>\n",
              "    </tr>\n",
              "    <tr>\n",
              "      <th>min</th>\n",
              "      <td>1.000000</td>\n",
              "      <td>1.000000</td>\n",
              "      <td>1.000000</td>\n",
              "      <td>56.000000</td>\n",
              "      <td>30.000000</td>\n",
              "      <td>0.000000</td>\n",
              "      <td>26.700000</td>\n",
              "    </tr>\n",
              "    <tr>\n",
              "      <th>25%</th>\n",
              "      <td>52.750000</td>\n",
              "      <td>2.000000</td>\n",
              "      <td>1.000000</td>\n",
              "      <td>82.000000</td>\n",
              "      <td>47.750000</td>\n",
              "      <td>0.000000</td>\n",
              "      <td>33.000000</td>\n",
              "    </tr>\n",
              "    <tr>\n",
              "      <th>50%</th>\n",
              "      <td>104.500000</td>\n",
              "      <td>3.000000</td>\n",
              "      <td>3.000000</td>\n",
              "      <td>87.000000</td>\n",
              "      <td>56.500000</td>\n",
              "      <td>1.000000</td>\n",
              "      <td>37.000000</td>\n",
              "    </tr>\n",
              "    <tr>\n",
              "      <th>75%</th>\n",
              "      <td>156.250000</td>\n",
              "      <td>5.000000</td>\n",
              "      <td>4.000000</td>\n",
              "      <td>90.000000</td>\n",
              "      <td>63.000000</td>\n",
              "      <td>4.000000</td>\n",
              "      <td>44.000000</td>\n",
              "    </tr>\n",
              "    <tr>\n",
              "      <th>max</th>\n",
              "      <td>208.000000</td>\n",
              "      <td>5.000000</td>\n",
              "      <td>6.000000</td>\n",
              "      <td>93.000000</td>\n",
              "      <td>73.000000</td>\n",
              "      <td>18.000000</td>\n",
              "      <td>97.000000</td>\n",
              "    </tr>\n",
              "  </tbody>\n",
              "</table>\n",
              "</div>\n",
              "    <div class=\"colab-df-buttons\">\n",
              "\n",
              "  <div class=\"colab-df-container\">\n",
              "    <button class=\"colab-df-convert\" onclick=\"convertToInteractive('df-0dd94edf-9eab-4ed5-ac54-e453f530388a')\"\n",
              "            title=\"Convert this dataframe to an interactive table.\"\n",
              "            style=\"display:none;\">\n",
              "\n",
              "  <svg xmlns=\"http://www.w3.org/2000/svg\" height=\"24px\" viewBox=\"0 -960 960 960\">\n",
              "    <path d=\"M120-120v-720h720v720H120Zm60-500h600v-160H180v160Zm220 220h160v-160H400v160Zm0 220h160v-160H400v160ZM180-400h160v-160H180v160Zm440 0h160v-160H620v160ZM180-180h160v-160H180v160Zm440 0h160v-160H620v160Z\"/>\n",
              "  </svg>\n",
              "    </button>\n",
              "\n",
              "  <style>\n",
              "    .colab-df-container {\n",
              "      display:flex;\n",
              "      gap: 12px;\n",
              "    }\n",
              "\n",
              "    .colab-df-convert {\n",
              "      background-color: #E8F0FE;\n",
              "      border: none;\n",
              "      border-radius: 50%;\n",
              "      cursor: pointer;\n",
              "      display: none;\n",
              "      fill: #1967D2;\n",
              "      height: 32px;\n",
              "      padding: 0 0 0 0;\n",
              "      width: 32px;\n",
              "    }\n",
              "\n",
              "    .colab-df-convert:hover {\n",
              "      background-color: #E2EBFA;\n",
              "      box-shadow: 0px 1px 2px rgba(60, 64, 67, 0.3), 0px 1px 3px 1px rgba(60, 64, 67, 0.15);\n",
              "      fill: #174EA6;\n",
              "    }\n",
              "\n",
              "    .colab-df-buttons div {\n",
              "      margin-bottom: 4px;\n",
              "    }\n",
              "\n",
              "    [theme=dark] .colab-df-convert {\n",
              "      background-color: #3B4455;\n",
              "      fill: #D2E3FC;\n",
              "    }\n",
              "\n",
              "    [theme=dark] .colab-df-convert:hover {\n",
              "      background-color: #434B5C;\n",
              "      box-shadow: 0px 1px 3px 1px rgba(0, 0, 0, 0.15);\n",
              "      filter: drop-shadow(0px 1px 2px rgba(0, 0, 0, 0.3));\n",
              "      fill: #FFFFFF;\n",
              "    }\n",
              "  </style>\n",
              "\n",
              "    <script>\n",
              "      const buttonEl =\n",
              "        document.querySelector('#df-0dd94edf-9eab-4ed5-ac54-e453f530388a button.colab-df-convert');\n",
              "      buttonEl.style.display =\n",
              "        google.colab.kernel.accessAllowed ? 'block' : 'none';\n",
              "\n",
              "      async function convertToInteractive(key) {\n",
              "        const element = document.querySelector('#df-0dd94edf-9eab-4ed5-ac54-e453f530388a');\n",
              "        const dataTable =\n",
              "          await google.colab.kernel.invokeFunction('convertToInteractive',\n",
              "                                                    [key], {});\n",
              "        if (!dataTable) return;\n",
              "\n",
              "        const docLinkHtml = 'Like what you see? Visit the ' +\n",
              "          '<a target=\"_blank\" href=https://colab.research.google.com/notebooks/data_table.ipynb>data table notebook</a>'\n",
              "          + ' to learn more about interactive tables.';\n",
              "        element.innerHTML = '';\n",
              "        dataTable['output_type'] = 'display_data';\n",
              "        await google.colab.output.renderOutput(dataTable, element);\n",
              "        const docLink = document.createElement('div');\n",
              "        docLink.innerHTML = docLinkHtml;\n",
              "        element.appendChild(docLink);\n",
              "      }\n",
              "    </script>\n",
              "  </div>\n",
              "\n",
              "\n",
              "    <div id=\"df-9046ba81-b576-4e23-bb5e-3f7e88c64fd0\">\n",
              "      <button class=\"colab-df-quickchart\" onclick=\"quickchart('df-9046ba81-b576-4e23-bb5e-3f7e88c64fd0')\"\n",
              "                title=\"Suggest charts\"\n",
              "                style=\"display:none;\">\n",
              "\n",
              "<svg xmlns=\"http://www.w3.org/2000/svg\" height=\"24px\"viewBox=\"0 0 24 24\"\n",
              "     width=\"24px\">\n",
              "    <g>\n",
              "        <path d=\"M19 3H5c-1.1 0-2 .9-2 2v14c0 1.1.9 2 2 2h14c1.1 0 2-.9 2-2V5c0-1.1-.9-2-2-2zM9 17H7v-7h2v7zm4 0h-2V7h2v10zm4 0h-2v-4h2v4z\"/>\n",
              "    </g>\n",
              "</svg>\n",
              "      </button>\n",
              "\n",
              "<style>\n",
              "  .colab-df-quickchart {\n",
              "      --bg-color: #E8F0FE;\n",
              "      --fill-color: #1967D2;\n",
              "      --hover-bg-color: #E2EBFA;\n",
              "      --hover-fill-color: #174EA6;\n",
              "      --disabled-fill-color: #AAA;\n",
              "      --disabled-bg-color: #DDD;\n",
              "  }\n",
              "\n",
              "  [theme=dark] .colab-df-quickchart {\n",
              "      --bg-color: #3B4455;\n",
              "      --fill-color: #D2E3FC;\n",
              "      --hover-bg-color: #434B5C;\n",
              "      --hover-fill-color: #FFFFFF;\n",
              "      --disabled-bg-color: #3B4455;\n",
              "      --disabled-fill-color: #666;\n",
              "  }\n",
              "\n",
              "  .colab-df-quickchart {\n",
              "    background-color: var(--bg-color);\n",
              "    border: none;\n",
              "    border-radius: 50%;\n",
              "    cursor: pointer;\n",
              "    display: none;\n",
              "    fill: var(--fill-color);\n",
              "    height: 32px;\n",
              "    padding: 0;\n",
              "    width: 32px;\n",
              "  }\n",
              "\n",
              "  .colab-df-quickchart:hover {\n",
              "    background-color: var(--hover-bg-color);\n",
              "    box-shadow: 0 1px 2px rgba(60, 64, 67, 0.3), 0 1px 3px 1px rgba(60, 64, 67, 0.15);\n",
              "    fill: var(--button-hover-fill-color);\n",
              "  }\n",
              "\n",
              "  .colab-df-quickchart-complete:disabled,\n",
              "  .colab-df-quickchart-complete:disabled:hover {\n",
              "    background-color: var(--disabled-bg-color);\n",
              "    fill: var(--disabled-fill-color);\n",
              "    box-shadow: none;\n",
              "  }\n",
              "\n",
              "  .colab-df-spinner {\n",
              "    border: 2px solid var(--fill-color);\n",
              "    border-color: transparent;\n",
              "    border-bottom-color: var(--fill-color);\n",
              "    animation:\n",
              "      spin 1s steps(1) infinite;\n",
              "  }\n",
              "\n",
              "  @keyframes spin {\n",
              "    0% {\n",
              "      border-color: transparent;\n",
              "      border-bottom-color: var(--fill-color);\n",
              "      border-left-color: var(--fill-color);\n",
              "    }\n",
              "    20% {\n",
              "      border-color: transparent;\n",
              "      border-left-color: var(--fill-color);\n",
              "      border-top-color: var(--fill-color);\n",
              "    }\n",
              "    30% {\n",
              "      border-color: transparent;\n",
              "      border-left-color: var(--fill-color);\n",
              "      border-top-color: var(--fill-color);\n",
              "      border-right-color: var(--fill-color);\n",
              "    }\n",
              "    40% {\n",
              "      border-color: transparent;\n",
              "      border-right-color: var(--fill-color);\n",
              "      border-top-color: var(--fill-color);\n",
              "    }\n",
              "    60% {\n",
              "      border-color: transparent;\n",
              "      border-right-color: var(--fill-color);\n",
              "    }\n",
              "    80% {\n",
              "      border-color: transparent;\n",
              "      border-right-color: var(--fill-color);\n",
              "      border-bottom-color: var(--fill-color);\n",
              "    }\n",
              "    90% {\n",
              "      border-color: transparent;\n",
              "      border-bottom-color: var(--fill-color);\n",
              "    }\n",
              "  }\n",
              "</style>\n",
              "\n",
              "      <script>\n",
              "        async function quickchart(key) {\n",
              "          const quickchartButtonEl =\n",
              "            document.querySelector('#' + key + ' button');\n",
              "          quickchartButtonEl.disabled = true;  // To prevent multiple clicks.\n",
              "          quickchartButtonEl.classList.add('colab-df-spinner');\n",
              "          try {\n",
              "            const charts = await google.colab.kernel.invokeFunction(\n",
              "                'suggestCharts', [key], {});\n",
              "          } catch (error) {\n",
              "            console.error('Error during call to suggestCharts:', error);\n",
              "          }\n",
              "          quickchartButtonEl.classList.remove('colab-df-spinner');\n",
              "          quickchartButtonEl.classList.add('colab-df-quickchart-complete');\n",
              "        }\n",
              "        (() => {\n",
              "          let quickchartButtonEl =\n",
              "            document.querySelector('#df-9046ba81-b576-4e23-bb5e-3f7e88c64fd0 button');\n",
              "          quickchartButtonEl.style.display =\n",
              "            google.colab.kernel.accessAllowed ? 'block' : 'none';\n",
              "        })();\n",
              "      </script>\n",
              "    </div>\n",
              "\n",
              "    </div>\n",
              "  </div>\n"
            ],
            "application/vnd.google.colaboratory.intrinsic+json": {
              "type": "dataframe",
              "summary": "{\n  \"name\": \"bank\",\n  \"rows\": 8,\n  \"fields\": [\n    {\n      \"column\": \"Employee\",\n      \"properties\": {\n        \"dtype\": \"number\",\n        \"std\": 74.65967036183366,\n        \"min\": 1.0,\n        \"max\": 208.0,\n        \"num_unique_values\": 6,\n        \"samples\": [\n          208.0,\n          104.5,\n          156.25\n        ],\n        \"semantic_type\": \"\",\n        \"description\": \"\"\n      }\n    },\n    {\n      \"column\": \"EducLev\",\n      \"properties\": {\n        \"dtype\": \"number\",\n        \"std\": 72.51245490169035,\n        \"min\": 1.0,\n        \"max\": 208.0,\n        \"num_unique_values\": 7,\n        \"samples\": [\n          208.0,\n          3.1586538461538463,\n          3.0\n        ],\n        \"semantic_type\": \"\",\n        \"description\": \"\"\n      }\n    },\n    {\n      \"column\": \"JobGrade\",\n      \"properties\": {\n        \"dtype\": \"number\",\n        \"std\": 72.58238914251946,\n        \"min\": 1.0,\n        \"max\": 208.0,\n        \"num_unique_values\": 7,\n        \"samples\": [\n          208.0,\n          2.7596153846153846,\n          4.0\n        ],\n        \"semantic_type\": \"\",\n        \"description\": \"\"\n      }\n    },\n    {\n      \"column\": \"YrHired\",\n      \"properties\": {\n        \"dtype\": \"number\",\n        \"std\": 56.134773388736676,\n        \"min\": 6.987832499938329,\n        \"max\": 208.0,\n        \"num_unique_values\": 8,\n        \"samples\": [\n          85.32692307692308,\n          87.0,\n          208.0\n        ],\n        \"semantic_type\": \"\",\n        \"description\": \"\"\n      }\n    },\n    {\n      \"column\": \"YrBorn\",\n      \"properties\": {\n        \"dtype\": \"number\",\n        \"std\": 59.931784960707375,\n        \"min\": 10.318987956621703,\n        \"max\": 208.0,\n        \"num_unique_values\": 8,\n        \"samples\": [\n          54.60576923076923,\n          56.5,\n          208.0\n        ],\n        \"semantic_type\": \"\",\n        \"description\": \"\"\n      }\n    },\n    {\n      \"column\": \"YrsPrior\",\n      \"properties\": {\n        \"dtype\": \"number\",\n        \"std\": 72.33684480847589,\n        \"min\": 0.0,\n        \"max\": 208.0,\n        \"num_unique_values\": 7,\n        \"samples\": [\n          208.0,\n          2.375,\n          4.0\n        ],\n        \"semantic_type\": \"\",\n        \"description\": \"\"\n      }\n    },\n    {\n      \"column\": \"Salary\",\n      \"properties\": {\n        \"dtype\": \"number\",\n        \"std\": 63.9635755924654,\n        \"min\": 11.256153921958742,\n        \"max\": 208.0,\n        \"num_unique_values\": 8,\n        \"samples\": [\n          39.92192307692307,\n          37.0,\n          208.0\n        ],\n        \"semantic_type\": \"\",\n        \"description\": \"\"\n      }\n    }\n  ]\n}"
            }
          },
          "metadata": {},
          "execution_count": 5
        }
      ],
      "source": [
        "bank.describe()"
      ]
    },
    {
      "cell_type": "markdown",
      "metadata": {
        "id": "ZufaZ4YWp2Zy"
      },
      "source": [
        "## Histograms in Seaborn\n",
        "Two graphics libraries are in common use in Python: Matplotlib and Seaborn.  Seaborn is an extension of Matplotlib that addresses a few specific graphics challenges, including histograms and boxplots.  As such, we will restrict our attention here to Seaborn."
      ]
    },
    {
      "cell_type": "markdown",
      "metadata": {
        "id": "awk0h0lOp2Zy"
      },
      "source": [
        "## Loading the library\n",
        "As before, we must load a library before we can use it.  Seaborn is typically aliased as `sns`, but this is just a convention."
      ]
    },
    {
      "cell_type": "code",
      "execution_count": 6,
      "metadata": {
        "id": "40ELLsO_p2Zy"
      },
      "outputs": [],
      "source": [
        "import seaborn as sns"
      ]
    },
    {
      "cell_type": "markdown",
      "metadata": {
        "id": "MzlxKFLbp2Zy"
      },
      "source": [
        "## Creating a histogram\n",
        "Histograms are created in Seaborn using the `histplot()` (histogram plot) method.  The syntax of Seaborn is closer to R than Python.  For example, the plot is called on a Seaborn library object (`sns`) and passed a data frame as an argument."
      ]
    },
    {
      "cell_type": "code",
      "execution_count": 7,
      "metadata": {
        "colab": {
          "base_uri": "https://localhost:8080/",
          "height": 466
        },
        "id": "YAPm-P2Np2Zy",
        "outputId": "9a328a0e-2cf2-4e09-d2bf-c49b52a505f0"
      },
      "outputs": [
        {
          "output_type": "execute_result",
          "data": {
            "text/plain": [
              "<Axes: xlabel='Salary', ylabel='Count'>"
            ]
          },
          "metadata": {},
          "execution_count": 7
        },
        {
          "output_type": "display_data",
          "data": {
            "text/plain": [
              "<Figure size 640x480 with 1 Axes>"
            ],
            "image/png": "[encoded data removed]"
          },
          "metadata": {}
        }
      ],
      "source": [
        "sns.histplot(x=bank['Salary'])"
      ]
    },
    {
      "cell_type": "markdown",
      "metadata": {
        "id": "1tgx82lcp2Zy"
      },
      "source": [
        "\n",
        "\n",
        "We can pass some arguments to the method to get a more elaborate histogram. Turning on the kernel density estimate (`kde=True`) gives us a smoothed \"kernel density\" line, like in SAS EG."
      ]
    },
    {
      "cell_type": "code",
      "execution_count": 8,
      "metadata": {
        "colab": {
          "base_uri": "https://localhost:8080/",
          "height": 449
        },
        "id": "9AXfxhjdp2Zy",
        "outputId": "0bf29d99-0ac1-458a-c9ec-fadef9fbaa74"
      },
      "outputs": [
        {
          "output_type": "display_data",
          "data": {
            "text/plain": [
              "<Figure size 640x480 with 1 Axes>"
            ],
            "image/png": "[encoded data removed]"
          },
          "metadata": {}
        }
      ],
      "source": [
        "sns.histplot(x=bank['Salary'], bins=10, kde=True);"
      ]
    },
    {
      "cell_type": "markdown",
      "metadata": {
        "id": "tVAYdhnIp2Zy"
      },
      "source": [
        "Of course, it is possible to change colors, and so on.  I have split the more detailed method call below over multiple lines, which is more readable and more with keeping with R-style coding."
      ]
    },
    {
      "cell_type": "code",
      "execution_count": 9,
      "metadata": {
        "colab": {
          "base_uri": "https://localhost:8080/",
          "height": 449
        },
        "id": "Xk3ntmj5p2Zz",
        "outputId": "8c28626d-5a48-4254-d234-0edc25457f6d"
      },
      "outputs": [
        {
          "output_type": "display_data",
          "data": {
            "text/plain": [
              "<Figure size 640x480 with 1 Axes>"
            ],
            "image/png": "[encoded data removed]"
          },
          "metadata": {}
        }
      ],
      "source": [
        "sns.histplot(x=bank['Salary'],\n",
        "             bins=10, kde=False,\n",
        "             stat=\"probability\",\n",
        "             color='green'\n",
        "            );"
      ]
    },
    {
      "cell_type": "markdown",
      "metadata": {
        "id": "WSRjgniZp2Zz"
      },
      "source": [
        "## Creating a boplot\n",
        "Creating a boxplot in Seaborn is very simple:"
      ]
    },
    {
      "cell_type": "code",
      "execution_count": 10,
      "metadata": {
        "colab": {
          "base_uri": "https://localhost:8080/",
          "height": 449
        },
        "id": "XyQa-VU8p2Zz",
        "outputId": "785832c1-605a-4a28-9eb8-a6965dace700"
      },
      "outputs": [
        {
          "output_type": "display_data",
          "data": {
            "text/plain": [
              "<Figure size 640x480 with 1 Axes>"
            ],
            "image/png": "[encoded data removed]"
          },
          "metadata": {}
        }
      ],
      "source": [
        "sns.boxplot(x=bank['Salary']);"
      ]
    },
    {
      "cell_type": "markdown",
      "metadata": {
        "id": "nCS7Sojrp2Zz"
      },
      "source": [
        "If you prefer a vertical orientation, you can plot your data as the `y` variable instead of the `x` variable, as done above.  Also, notice that Seaborn does not provide an indicator of the mean by default.  Obviously, skewed data such as this pulls the mean away from the median.  I like to eyeball the difference between the two measures."
      ]
    },
    {
      "cell_type": "code",
      "execution_count": 11,
      "metadata": {
        "colab": {
          "base_uri": "https://localhost:8080/",
          "height": 414
        },
        "id": "YF1ysHZFp2Zz",
        "outputId": "cbfd87a0-7b64-44a2-9bb9-1451325a2253"
      },
      "outputs": [
        {
          "output_type": "display_data",
          "data": {
            "text/plain": [
              "<Figure size 640x480 with 1 Axes>"
            ],
            "image/png": "[encoded data removed]"
          },
          "metadata": {}
        }
      ],
      "source": [
        "sns.boxplot(y=bank['Salary'],  color='lightgreen', showmeans=True);"
      ]
    },
    {
      "cell_type": "code",
      "execution_count": null,
      "metadata": {
        "id": "QC2PgBRfp2Zz"
      },
      "outputs": [],
      "source": []
    }
  ],
  "metadata": {
    "kernelspec": {
      "display_name": "Python 3",
      "language": "python",
      "name": "python3"
    },
    "language_info": {
      "codemirror_mode": {
        "name": "ipython",
        "version": 3
      },
      "file_extension": ".py",
      "mimetype": "text/x-python",
      "name": "python",
      "nbconvert_exporter": "python",
      "pygments_lexer": "ipython3",
      "version": "3.8.10"
    },
    "colab": {
      "provenance": [],
      "include_colab_link": true
    }
  },
  "nbformat": 4,
  "nbformat_minor": 0
}